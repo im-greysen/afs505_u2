{
 "cells": [
  {
   "cell_type": "markdown",
   "metadata": {},
   "source": [
    "# Lesson 2 Practice: NumPy Part 2\n",
    "Use this notebook to follow along with the lesson in the corresponding lesson notebook: [L02-Numpy_Part2-Lesson.ipynb](./L02-Numpy_Part2-Lesson.ipynb).  \n"
   ]
  },
  {
   "cell_type": "markdown",
   "metadata": {},
   "source": [
    "## Instructions\n",
    "Follow along with the teaching material in the lesson. Throughout the tutorial sections labeled as \"Tasks\" are interspersed and indicated with the icon: ![Task](http://icons.iconarchive.com/icons/sbstnblnd/plateau/16/Apps-gnome-info-icon.png). You should follow the instructions provided in these sections by performing them in the practice notebook.  When the tutorial is completed you can turn in the final practice notebook. For each task, use the cell below it to write and test your code.  You may add additional cells for any task as needed or desired. "
   ]
  },
  {
   "cell_type": "markdown",
   "metadata": {},
   "source": [
    "## Task 1a: Setup\n",
    "\n",
    "In the practice notebook, import the following packages:\n",
    "+ `numpy` as `np`"
   ]
  },
  {
   "cell_type": "code",
   "execution_count": 1,
   "metadata": {},
   "outputs": [],
   "source": [
    "import numpy as np"
   ]
  },
  {
   "cell_type": "markdown",
   "metadata": {},
   "source": [
    "## Task 2a: Indexing by Subsetting and Slicing\n",
    "\n",
    "In the practice notebook perform the following:\n",
    "\n",
    "1. Create (or re-use) 3 arrays, each containing three dimensions.\n",
    "2. Slice each of these arrays so that:\n",
    "    + One element / number is returned.\n",
    "    + One dimension is returned.\n",
    "    + A subset of a dimension is returned.\n",
    "3. What is the difference between `[x:]` and `[x, ...]`? (hint, try each on high-dimension arrays).\n",
    "    \n",
    "*Exactly what you choose to return is not imporant at this point, the goal of this task is to train you so that if you are given an n-dimension NumPy array, you can write an index or slice that returns a subset of desired positions.*"
   ]
  },
  {
   "cell_type": "code",
   "execution_count": 2,
   "metadata": {},
   "outputs": [
    {
     "name": "stdout",
     "output_type": "stream",
     "text": [
      "6\n",
      "3\n",
      "4\n",
      "[[4 5 6]]\n",
      "[[1 1 1]]\n",
      "[[ 0 15 16]]\n",
      "[[4 5 6]\n",
      " [7 8 9]]\n",
      "[[1 1 1]\n",
      " [2 2 2]]\n",
      "[[ 0  4  8]\n",
      " [ 0 15 16]]\n"
     ]
    }
   ],
   "source": [
    "ary_1 = np.array([[1,2,3],[4,5,6],[7,8,9]])\n",
    "print(ary_1[1,2])\n",
    "ary_2 = np.array([[1,1,1],[2,2,2],[3,3,3]])\n",
    "print(ary_2[2,0])\n",
    "ary_3 = np.array([[0,4,8],[0,15,16],[0,23,42]])\n",
    "print(ary_3[0,1])\n",
    "print(ary_1[1:2])\n",
    "print(ary_2[0:1])\n",
    "print(ary_3[1:2])\n",
    "print(ary_1[1:])\n",
    "print(ary_2[0:2])\n",
    "print(ary_3[0:2])\n",
    "\n",
    "# 3 x: gets specified dimension from array; x,... gets the specified dimension and element from array"
   ]
  },
  {
   "cell_type": "markdown",
   "metadata": {},
   "source": [
    "## Task 3a: Boolean Indexing\n",
    "\n",
    "In the practice notebook perform the following:\n",
    "\n",
    "+ Experiment with the following boolean conditionals to generate boolean arrays for indexing:\n",
    "  + Greater than\n",
    "  + Less than\n",
    "  + Equals\n",
    "  + Combine two or more of the above with:\n",
    "      + or `|`\n",
    "      + and `&`\n",
    "\n",
    "You can create arrays or use existing ones"
   ]
  },
  {
   "cell_type": "code",
   "execution_count": 3,
   "metadata": {},
   "outputs": [
    {
     "ename": "SyntaxError",
     "evalue": "invalid syntax (<ipython-input-3-45a8d1a95913>, line 4)",
     "output_type": "error",
     "traceback": [
      "\u001b[1;36m  File \u001b[1;32m\"<ipython-input-3-45a8d1a95913>\"\u001b[1;36m, line \u001b[1;32m4\u001b[0m\n\u001b[1;33m    x[x = 0.5]\u001b[0m\n\u001b[1;37m        ^\u001b[0m\n\u001b[1;31mSyntaxError\u001b[0m\u001b[1;31m:\u001b[0m invalid syntax\n"
     ]
    }
   ],
   "source": [
    "x = np.array([[0.01,0.02,0.03],[0.1, 0.2, 0.3],[0.5,0.6,0.7],[0.8,0.9,0.93]])\n",
    "x[x > 0.2]\n",
    "x[x < 0.1]\n",
    "x[x = 0.5]\n",
    "x[(0.3 < x) & (x > 0.1)]\n",
    "x[(x < 0.2) | (x > 0.89)]"
   ]
  },
  {
   "cell_type": "markdown",
   "metadata": {},
   "source": [
    "## Task 4a: Getting Help\n",
    "\n",
    "In the practice notebook perform the following:\n",
    "\n",
    "+ In the code cell below, call `help()` on two of the following functions: `np.transpose()`, `np.reshape()`, `np.resize()`, `np.ravel()`, `np.append()`, `np.delete()`, `np.concatenate()`, `np.vstack()`, `np.hstack()`, `np.column_stack()`, `np.vsplit()`, `np.hsplit()` \n",
    "+ Respond to this question: Did you understand the help docuemntation? Could you use the function just by looking at what the help says about it?  "
   ]
  },
  {
   "cell_type": "code",
   "execution_count": null,
   "metadata": {},
   "outputs": [],
   "source": [
    "np.array([[1,2,3,4,5,6,7],[7,6,5,4,3,2,1]])\n",
    "xt = np.transpose(x)\n",
    "a = np.array([0])\n",
    "xa = np.append(x,a)\n",
    "help(xt)\n",
    "help(xa)\n",
    "# I think I could mostly understand what the help() call does and the associated documentation. If I needed more help\n",
    "# I would ask for help"
   ]
  },
  {
   "cell_type": "markdown",
   "metadata": {},
   "source": [
    "## Task 5a: Transposing an Array\n",
    "\n",
    "In the practice notebook perform the following:\n",
    "\n",
    "+ Create a matrix of any size and transpose it."
   ]
  },
  {
   "cell_type": "code",
   "execution_count": null,
   "metadata": {},
   "outputs": [],
   "source": [
    "x = np.array([[1,2,3,4,5,6,7],[7,6,5,4,3,2,1]])\n",
    "xt = np.transpose(x)\n",
    "print(x)\n",
    "print(xt)"
   ]
  },
  {
   "cell_type": "markdown",
   "metadata": {},
   "source": [
    "## Task 5b: Reshaping an Array\n",
    "\n",
    "In the practice notebook peform the following:\n",
    "\n",
    "+ Create a matrix and resize it by adding 2 extra columns\n",
    "+ Create a matrix and resize it by adding 1 extra row\n",
    "+ Create a matrix of 8 x 2 and resize it to 4 x 4"
   ]
  },
  {
   "cell_type": "code",
   "execution_count": null,
   "metadata": {},
   "outputs": [],
   "source": [
    "x = np.array([4,8,15,16])\n",
    "y = np.append(x, [23,42])\n",
    "print(y)\n",
    "\n",
    "z = np.vstack((y, y))\n",
    "print(z)\n",
    "\n",
    "a = np.random.random((8,2))\n",
    "print(a.reshape((4,4)))"
   ]
  },
  {
   "cell_type": "markdown",
   "metadata": {},
   "source": [
    "## Task 5c: Appending to an Array\n",
    "\n",
    "In the practice notebook perform the following:\n",
    "\n",
    " + Create a three dimensional array and append another row to the array\n",
    " + Append another colum to the array\n",
    " + Print the final results"
   ]
  },
  {
   "cell_type": "code",
   "execution_count": null,
   "metadata": {},
   "outputs": [],
   "source": [
    "x = np.random.random((3,3))\n",
    "a = np.random.random(3)\n",
    "b = np.random.random(4)\n",
    "c = np.vstack((x,a))\n",
    "d = np.transpose(b)\n",
    "e = np.append(c,d)\n",
    "print(e)"
   ]
  },
  {
   "cell_type": "markdown",
   "metadata": {},
   "source": [
    "## Task 5d: Inserting and Deleting Elements\n",
    "\n",
    "In the practice notebook perform the following:\n",
    "\n",
    "+ Examine the `help()` documentation for how to use the `insert()` and `delete()` functions.\n",
    "+ Create a matrix and practice inserting a row and deleting a column."
   ]
  },
  {
   "cell_type": "code",
   "execution_count": 17,
   "metadata": {},
   "outputs": [
    {
     "ename": "SyntaxError",
     "evalue": "invalid syntax (<ipython-input-17-fda8467fee5f>, line 4)",
     "output_type": "error",
     "traceback": [
      "\u001b[1;36m  File \u001b[1;32m\"<ipython-input-17-fda8467fee5f>\"\u001b[1;36m, line \u001b[1;32m4\u001b[0m\n\u001b[1;33m    c = np.delete(y,[b])\u001b[0m\n\u001b[1;37m    ^\u001b[0m\n\u001b[1;31mSyntaxError\u001b[0m\u001b[1;31m:\u001b[0m invalid syntax\n"
     ]
    }
   ],
   "source": [
    "x = np.array([[3,3,3],[3,3,3]])\n",
    "b = np.array([1,2,3])\n",
    "y = np.insert((x, b, 1, 1)\n",
    "c = np.delete(y,[b])\n",
    "print(z)"
   ]
  },
  {
   "cell_type": "markdown",
   "metadata": {},
   "source": [
    "## Task 5e: Joining Arrays\n",
    "\n",
    "In the practice notebook perform the following:\n",
    "\n",
    "+ Execute the code (in the cell below).\n",
    "+ Examine the output from each of the function calls in the cell above. If needed to understand, review the help pages for each tool either using the `help()` command or the [Numpy Function Reference](https://docs.scipy.org/doc/numpy/reference/routines.html). \n",
    "+ Respond to the following question and respond in the second cell below.\n",
    "  + Can you identify what is happening with each of them?"
   ]
  },
  {
   "cell_type": "code",
   "execution_count": 4,
   "metadata": {},
   "outputs": [
    {
     "name": "stdout",
     "output_type": "stream",
     "text": [
      "concatenate:\n",
      "[1 2 3 4 1 1 1 1]\n",
      "\n",
      "vstack:\n",
      "[[1 2 3 4]\n",
      " [1 2 3 4]\n",
      " [5 6 7 8]]\n",
      "\n",
      "hstack:\n",
      "[[1 2 3 4 1 2 3 4]\n",
      " [5 6 7 8 5 6 7 8]]\n",
      "\n",
      "column_stack:\n",
      "[[1 2 3 4 1 2 3 4]\n",
      " [5 6 7 8 5 6 7 8]]\n"
     ]
    }
   ],
   "source": [
    "# Concatentate `my_array` and `x`: similar to np.append()\n",
    "my_array = np.array([1,2,3,4])\n",
    "x = np.array([1,1,1,1])\n",
    "print(\"concatenate:\")\n",
    "print(np.concatenate((my_array, x)))\n",
    "\n",
    "# Stack arrays row-wise\n",
    "my_2d_array = np.array([[1,2,3,4], [5,6,7,8]])\n",
    "print(\"\\nvstack:\")\n",
    "print(np.vstack((my_array, my_2d_array)))\n",
    "\n",
    "# Stack arrays horizontally\n",
    "print(\"\\nhstack:\")\n",
    "print(np.hstack((my_2d_array, my_2d_array)))\n",
    "\n",
    "# Stack arrays column-wise\n",
    "print(\"\\ncolumn_stack:\")\n",
    "print(np.column_stack((my_2d_array, my_2d_array)))"
   ]
  },
  {
   "cell_type": "raw",
   "metadata": {},
   "source": [
    "concatenate appends the 2 arrays\n",
    "vstacks vertically stacks\n",
    "hstack horizontally stacks\n",
    "column stack stacks each column"
   ]
  },
  {
   "cell_type": "markdown",
   "metadata": {},
   "source": [
    "## Task 5d: Splitting Arrays\n",
    "\n",
    "In the practice notebook perform the following:\n",
    "\n",
    "+ Execute the code (as shown below).\n",
    "+ Examine the output from each of the function calls in the cell above. If needed to understand, review the help pages for each tool either using the `help()` command or the [Numpy Function Reference](https://docs.scipy.org/doc/numpy/reference/routines.html). \n",
    "+ Respond to the following question and respond in the second cell below.\n",
    "  + Can you identify what is happening with each of them?"
   ]
  },
  {
   "cell_type": "code",
   "execution_count": 18,
   "metadata": {},
   "outputs": [
    {
     "name": "stdout",
     "output_type": "stream",
     "text": [
      "original:\n",
      "[[1 2 3 4]\n",
      " [5 6 7 8]]\n",
      "\n",
      "hsplit:\n",
      "[array([[1, 2],\n",
      "       [5, 6]]), array([[3, 4],\n",
      "       [7, 8]])]\n",
      "\n",
      "vsplit:\n",
      "[array([[1, 2, 3, 4]]), array([[5, 6, 7, 8]])]\n"
     ]
    }
   ],
   "source": [
    "# Create a 2D array.\n",
    "my_2d_array = np.array([[1,2,3,4], [5,6,7,8]])\n",
    "print(\"original:\")\n",
    "print(my_2d_array)\n",
    "\n",
    "# Split `my_stacked_array` horizontally at the 2nd index\n",
    "print(\"\\nhsplit:\")\n",
    "print(np.hsplit(my_2d_array, 2))\n",
    "\n",
    "# Split `my_stacked_array` vertically at the 2nd index\n",
    "print(\"\\nvsplit:\")\n",
    "print(np.vsplit(my_2d_array, 2))"
   ]
  },
  {
   "cell_type": "raw",
   "metadata": {},
   "source": [
    "hsplit takes original array and splits it between the 2nd and 3rd element in each row creating new arrays\n",
    "\n",
    "vsplit separates the original array creating new arrays from 1st and second rows"
   ]
  }
 ],
 "metadata": {
  "kernelspec": {
   "display_name": "Python 3",
   "language": "python",
   "name": "python3"
  },
  "language_info": {
   "codemirror_mode": {
    "name": "ipython",
    "version": 3
   },
   "file_extension": ".py",
   "mimetype": "text/x-python",
   "name": "python",
   "nbconvert_exporter": "python",
   "pygments_lexer": "ipython3",
   "version": "3.7.4"
  }
 },
 "nbformat": 4,
 "nbformat_minor": 4
}
