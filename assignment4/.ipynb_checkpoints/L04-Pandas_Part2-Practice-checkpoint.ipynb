{
 "cells": [
  {
   "cell_type": "markdown",
   "metadata": {},
   "source": [
    "# Lesson 4 Practice: Pandas Part 2\n",
    "\n",
    "Use this notebook to follow along with the lesson in the corresponding lesson notebook: [L04-Pandas_Part2-Lesson.ipynb](./L04-Pandas_Part2-Lesson.ipynb).  \n"
   ]
  },
  {
   "cell_type": "markdown",
   "metadata": {},
   "source": [
    "## Instructions\n",
    "Follow along with the teaching material in the lesson. Throughout the tutorial sections labeled as \"Tasks\" are interspersed and indicated with the icon: ![Task](http://icons.iconarchive.com/icons/sbstnblnd/plateau/16/Apps-gnome-info-icon.png). You should follow the instructions provided in these sections by performing them in the practice notebook.  When the tutorial is completed you can turn in the final practice notebook. For each task, use the cell below it to write and test your code.  You may add additional cells for any task as needed or desired.  "
   ]
  },
  {
   "cell_type": "markdown",
   "metadata": {},
   "source": [
    "## Task 1a: Setup\n",
    "\n",
    "- import pandas\n",
    "- re-create the `df` data frame\n",
    "- re-create the `iris_df` data frame"
   ]
  },
  {
   "cell_type": "code",
   "execution_count": 5,
   "metadata": {},
   "outputs": [
    {
     "data": {
      "text/html": [
       "<div>\n",
       "<style scoped>\n",
       "    .dataframe tbody tr th:only-of-type {\n",
       "        vertical-align: middle;\n",
       "    }\n",
       "\n",
       "    .dataframe tbody tr th {\n",
       "        vertical-align: top;\n",
       "    }\n",
       "\n",
       "    .dataframe thead th {\n",
       "        text-align: right;\n",
       "    }\n",
       "</style>\n",
       "<table border=\"1\" class=\"dataframe\">\n",
       "  <thead>\n",
       "    <tr style=\"text-align: right;\">\n",
       "      <th></th>\n",
       "      <th>alpha</th>\n",
       "      <th>beta</th>\n",
       "    </tr>\n",
       "  </thead>\n",
       "  <tbody>\n",
       "    <tr>\n",
       "      <td>0</td>\n",
       "      <td>0</td>\n",
       "      <td>a</td>\n",
       "    </tr>\n",
       "    <tr>\n",
       "      <td>1</td>\n",
       "      <td>1</td>\n",
       "      <td>b</td>\n",
       "    </tr>\n",
       "    <tr>\n",
       "      <td>2</td>\n",
       "      <td>2</td>\n",
       "      <td>c</td>\n",
       "    </tr>\n",
       "    <tr>\n",
       "      <td>3</td>\n",
       "      <td>3</td>\n",
       "      <td>d</td>\n",
       "    </tr>\n",
       "    <tr>\n",
       "      <td>4</td>\n",
       "      <td>4</td>\n",
       "      <td>e</td>\n",
       "    </tr>\n",
       "  </tbody>\n",
       "</table>\n",
       "</div>"
      ],
      "text/plain": [
       "   alpha beta\n",
       "0      0    a\n",
       "1      1    b\n",
       "2      2    c\n",
       "3      3    d\n",
       "4      4    e"
      ]
     },
     "execution_count": 5,
     "metadata": {},
     "output_type": "execute_result"
    }
   ],
   "source": [
    "import pandas as pd\n",
    "import numpy as np\n",
    "\n",
    "df = pd.DataFrame(\n",
    "    {'alpha': [0, 1, 2, 3, 4],\n",
    "     'beta': ['a', 'b', 'c', 'd', 'e']})\n",
    "iris_df = pd.read_csv('iris.csv')\n",
    "df"
   ]
  },
  {
   "cell_type": "markdown",
   "metadata": {},
   "source": [
    "## Task 2a: Inserting Columns\n",
    "\n",
    "+ Create a copy of the `df` dataframe.\n",
    "+ Add a new column named \"delta\" to the copy that consists of random numbers."
   ]
  },
  {
   "cell_type": "code",
   "execution_count": 8,
   "metadata": {},
   "outputs": [
    {
     "data": {
      "text/html": [
       "<div>\n",
       "<style scoped>\n",
       "    .dataframe tbody tr th:only-of-type {\n",
       "        vertical-align: middle;\n",
       "    }\n",
       "\n",
       "    .dataframe tbody tr th {\n",
       "        vertical-align: top;\n",
       "    }\n",
       "\n",
       "    .dataframe thead th {\n",
       "        text-align: right;\n",
       "    }\n",
       "</style>\n",
       "<table border=\"1\" class=\"dataframe\">\n",
       "  <thead>\n",
       "    <tr style=\"text-align: right;\">\n",
       "      <th></th>\n",
       "      <th>alpha</th>\n",
       "      <th>beta</th>\n",
       "      <th>delta</th>\n",
       "    </tr>\n",
       "  </thead>\n",
       "  <tbody>\n",
       "    <tr>\n",
       "      <td>0</td>\n",
       "      <td>0</td>\n",
       "      <td>a</td>\n",
       "      <td>0.878697</td>\n",
       "    </tr>\n",
       "    <tr>\n",
       "      <td>1</td>\n",
       "      <td>1</td>\n",
       "      <td>b</td>\n",
       "      <td>0.802407</td>\n",
       "    </tr>\n",
       "    <tr>\n",
       "      <td>2</td>\n",
       "      <td>2</td>\n",
       "      <td>c</td>\n",
       "      <td>0.205982</td>\n",
       "    </tr>\n",
       "    <tr>\n",
       "      <td>3</td>\n",
       "      <td>3</td>\n",
       "      <td>d</td>\n",
       "      <td>0.176131</td>\n",
       "    </tr>\n",
       "    <tr>\n",
       "      <td>4</td>\n",
       "      <td>4</td>\n",
       "      <td>e</td>\n",
       "      <td>0.689448</td>\n",
       "    </tr>\n",
       "  </tbody>\n",
       "</table>\n",
       "</div>"
      ],
      "text/plain": [
       "   alpha beta     delta\n",
       "0      0    a  0.878697\n",
       "1      1    b  0.802407\n",
       "2      2    c  0.205982\n",
       "3      3    d  0.176131\n",
       "4      4    e  0.689448"
      ]
     },
     "execution_count": 8,
     "metadata": {},
     "output_type": "execute_result"
    }
   ],
   "source": [
    "df_delta = df\n",
    "df_delta['delta'] = pd.Series(np.random.random(5))\n",
    "df_delta"
   ]
  },
  {
   "cell_type": "markdown",
   "metadata": {},
   "source": [
    "## Task 3a: Missing Data\n",
    "\n",
    "+ Create two new copies of the `df` dataframe:\n",
    "+ Add a new column to both that has missing values.\n",
    "+ In one copy, replace missing values with a value of your choice.\n",
    "+ In the other copy, drop rows with `NaN` values.\n",
    "+ Print both arrays to confirm."
   ]
  },
  {
   "cell_type": "code",
   "execution_count": 17,
   "metadata": {},
   "outputs": [
    {
     "name": "stdout",
     "output_type": "stream",
     "text": [
      "   alpha beta     delta  gamma\n",
      "0      0    a  0.878697    1.0\n",
      "1      1    b  0.802407    2.0\n",
      "2      2    c  0.205982    3.0\n",
      "3      3    d  0.176131    2.0\n",
      "4      4    e  0.689448    2.0\n"
     ]
    },
    {
     "data": {
      "text/html": [
       "<div>\n",
       "<style scoped>\n",
       "    .dataframe tbody tr th:only-of-type {\n",
       "        vertical-align: middle;\n",
       "    }\n",
       "\n",
       "    .dataframe tbody tr th {\n",
       "        vertical-align: top;\n",
       "    }\n",
       "\n",
       "    .dataframe thead th {\n",
       "        text-align: right;\n",
       "    }\n",
       "</style>\n",
       "<table border=\"1\" class=\"dataframe\">\n",
       "  <thead>\n",
       "    <tr style=\"text-align: right;\">\n",
       "      <th></th>\n",
       "      <th>alpha</th>\n",
       "      <th>beta</th>\n",
       "      <th>delta</th>\n",
       "      <th>lamda</th>\n",
       "    </tr>\n",
       "  </thead>\n",
       "  <tbody>\n",
       "    <tr>\n",
       "      <td>0</td>\n",
       "      <td>0</td>\n",
       "      <td>a</td>\n",
       "      <td>0.878697</td>\n",
       "      <td>3.0</td>\n",
       "    </tr>\n",
       "    <tr>\n",
       "      <td>1</td>\n",
       "      <td>1</td>\n",
       "      <td>b</td>\n",
       "      <td>0.802407</td>\n",
       "      <td>2.0</td>\n",
       "    </tr>\n",
       "    <tr>\n",
       "      <td>2</td>\n",
       "      <td>2</td>\n",
       "      <td>c</td>\n",
       "      <td>0.205982</td>\n",
       "      <td>1.0</td>\n",
       "    </tr>\n",
       "  </tbody>\n",
       "</table>\n",
       "</div>"
      ],
      "text/plain": [
       "   alpha beta     delta  lamda\n",
       "0      0    a  0.878697    3.0\n",
       "1      1    b  0.802407    2.0\n",
       "2      2    c  0.205982    1.0"
      ]
     },
     "execution_count": 17,
     "metadata": {},
     "output_type": "execute_result"
    }
   ],
   "source": [
    "df_copa = df.copy()\n",
    "df_copb = df.copy()\n",
    "\n",
    "df_copa['gamma'] = pd.Series([1,2,3])\n",
    "df_copb['lamda'] = pd.Series([3,2,1])\n",
    "\n",
    "df_copa = df_copa.fillna(2)\n",
    "df_copb = df_copb.dropna()\n",
    "\n",
    "print(df_copa)\n",
    "\n",
    "df_copb"
   ]
  },
  {
   "cell_type": "markdown",
   "metadata": {},
   "source": [
    "## Task 4a: Operations\n",
    "<span style=\"float:right; margin-left:10px; clear:both;\">![Task](./media/task-icon.png)</span>\n",
    "\n",
    "View the [Computational tools](https://pandas.pydata.org/pandas-docs/stable/user_guide/computation.html) and [statistical methods](https://pandas.pydata.org/pandas-docs/stable/user_guide/computation.html#method-summary) documentation.\n",
    "Using the list of operational functions choose five functions to use with the iris data frame.\n",
    "\n"
   ]
  },
  {
   "cell_type": "code",
   "execution_count": 22,
   "metadata": {},
   "outputs": [
    {
     "name": "stdout",
     "output_type": "stream",
     "text": [
      "sepal_length    5.843333\n",
      "sepal_width     3.054000\n",
      "petal_length    3.758667\n",
      "petal_width     1.198667\n",
      "dtype: float64\n",
      "sepal_length    5.80\n",
      "sepal_width     3.00\n",
      "petal_length    4.35\n",
      "petal_width     1.30\n",
      "dtype: float64\n",
      "sepal_length       4.3\n",
      "sepal_width          2\n",
      "petal_length         1\n",
      "petal_width        0.1\n",
      "species         setosa\n",
      "dtype: object\n",
      "sepal_length          7.9\n",
      "sepal_width           4.4\n",
      "petal_length          6.9\n",
      "petal_width           2.5\n",
      "species         virginica\n",
      "dtype: object\n",
      "sepal_length    0.685694\n",
      "sepal_width     0.188004\n",
      "petal_length    3.113179\n",
      "petal_width     0.582414\n",
      "dtype: float64\n"
     ]
    }
   ],
   "source": [
    "print(iris_df.mean())\n",
    "print(iris_df.median())\n",
    "print(iris_df.min())\n",
    "print(iris_df.max())\n",
    "print(iris_df.var())"
   ]
  },
  {
   "cell_type": "markdown",
   "metadata": {},
   "source": [
    "## Task 4b:  Apply\n",
    "\n",
    "Practice using `apply` on either the `df` or `iris_df` data frames using any two functions of your choice other than `print`, `type`, and `np.sum`."
   ]
  },
  {
   "cell_type": "code",
   "execution_count": 27,
   "metadata": {},
   "outputs": [
    {
     "name": "stdout",
     "output_type": "stream",
     "text": [
      "sepal_length    <class 'pandas.core.series.Series'>\n",
      "sepal_width     <class 'pandas.core.series.Series'>\n",
      "petal_length    <class 'pandas.core.series.Series'>\n",
      "petal_width     <class 'pandas.core.series.Series'>\n",
      "species         <class 'pandas.core.series.Series'>\n",
      "dtype: object\n",
      "sepal_length    5.843333\n",
      "sepal_width     3.054000\n",
      "petal_length    3.758667\n",
      "petal_width     1.198667\n",
      "dtype: float64\n"
     ]
    }
   ],
   "source": [
    "print(iris_df.apply(type, 0))\n",
    "print(iris_df.mean().apply(np.sum, 1))"
   ]
  },
  {
   "cell_type": "markdown",
   "metadata": {},
   "source": [
    "## Task 4c.  Occurances\n",
    "Ientify the number of occurances for each species (virginica, versicolor, setosa) in the `iris_df` object.  *Hint*: the `value_counts` function only works on a `pd.Series` object, not on the full data frame.."
   ]
  },
  {
   "cell_type": "code",
   "execution_count": 29,
   "metadata": {},
   "outputs": [
    {
     "data": {
      "text/plain": [
       "setosa        50\n",
       "virginica     50\n",
       "versicolor    50\n",
       "Name: species, dtype: int64"
      ]
     },
     "execution_count": 29,
     "metadata": {},
     "output_type": "execute_result"
    }
   ],
   "source": [
    "iris_df['species'].value_counts()"
   ]
  },
  {
   "cell_type": "markdown",
   "metadata": {},
   "source": [
    "## Task 5a: String Methods\n",
    "\n",
    "+ Create a list of five strings that represent dates in the form YYYY-MM-DD (e.g. 2020-02-20 for Feb 20th, 2020).\n",
    "+ Add this list of dates as a new column in the `df` dataframe.\n",
    "+ Now split the date into 3 new columns with one column representing the year, another the month and another they day.\n",
    "+ Combine the values from columns `alpha` and `beta` into a new column where the values are spearated with a colon.\n"
   ]
  },
  {
   "cell_type": "code",
   "execution_count": 31,
   "metadata": {},
   "outputs": [
    {
     "data": {
      "text/html": [
       "<div>\n",
       "<style scoped>\n",
       "    .dataframe tbody tr th:only-of-type {\n",
       "        vertical-align: middle;\n",
       "    }\n",
       "\n",
       "    .dataframe tbody tr th {\n",
       "        vertical-align: top;\n",
       "    }\n",
       "\n",
       "    .dataframe thead th {\n",
       "        text-align: right;\n",
       "    }\n",
       "</style>\n",
       "<table border=\"1\" class=\"dataframe\">\n",
       "  <thead>\n",
       "    <tr style=\"text-align: right;\">\n",
       "      <th></th>\n",
       "      <th>alpha</th>\n",
       "      <th>beta</th>\n",
       "      <th>delta</th>\n",
       "      <th>dates</th>\n",
       "      <th>year</th>\n",
       "      <th>month</th>\n",
       "      <th>day</th>\n",
       "    </tr>\n",
       "  </thead>\n",
       "  <tbody>\n",
       "    <tr>\n",
       "      <td>0</td>\n",
       "      <td>0</td>\n",
       "      <td>a</td>\n",
       "      <td>0.878697</td>\n",
       "      <td>1991-01-09</td>\n",
       "      <td>1991</td>\n",
       "      <td>01</td>\n",
       "      <td>09</td>\n",
       "    </tr>\n",
       "    <tr>\n",
       "      <td>1</td>\n",
       "      <td>1</td>\n",
       "      <td>b</td>\n",
       "      <td>0.802407</td>\n",
       "      <td>2001-01-09</td>\n",
       "      <td>2001</td>\n",
       "      <td>01</td>\n",
       "      <td>09</td>\n",
       "    </tr>\n",
       "    <tr>\n",
       "      <td>2</td>\n",
       "      <td>2</td>\n",
       "      <td>c</td>\n",
       "      <td>0.205982</td>\n",
       "      <td>2001-09-11</td>\n",
       "      <td>2001</td>\n",
       "      <td>09</td>\n",
       "      <td>11</td>\n",
       "    </tr>\n",
       "    <tr>\n",
       "      <td>3</td>\n",
       "      <td>3</td>\n",
       "      <td>d</td>\n",
       "      <td>0.176131</td>\n",
       "      <td>2015-06-10</td>\n",
       "      <td>2015</td>\n",
       "      <td>06</td>\n",
       "      <td>10</td>\n",
       "    </tr>\n",
       "    <tr>\n",
       "      <td>4</td>\n",
       "      <td>4</td>\n",
       "      <td>e</td>\n",
       "      <td>0.689448</td>\n",
       "      <td>2020-03-03</td>\n",
       "      <td>2020</td>\n",
       "      <td>03</td>\n",
       "      <td>03</td>\n",
       "    </tr>\n",
       "  </tbody>\n",
       "</table>\n",
       "</div>"
      ],
      "text/plain": [
       "   alpha beta     delta       dates  year month day\n",
       "0      0    a  0.878697  1991-01-09  1991    01  09\n",
       "1      1    b  0.802407  2001-01-09  2001    01  09\n",
       "2      2    c  0.205982  2001-09-11  2001    09  11\n",
       "3      3    d  0.176131  2015-06-10  2015    06  10\n",
       "4      4    e  0.689448  2020-03-03  2020    03  03"
      ]
     },
     "execution_count": 31,
     "metadata": {},
     "output_type": "execute_result"
    }
   ],
   "source": [
    "date = ['1991-01-09', '2001-01-09', '2001-09-11', '2015-06-10', '2020-03-03']\n",
    "df[\"dates\"] = date\n",
    "df['year'], df['month'], df['day'] = df['dates'].str.split('-', 2).str\n",
    "df"
   ]
  },
  {
   "cell_type": "markdown",
   "metadata": {},
   "source": [
    "## Task 6a: Concatenation by Rows\n",
    "+ Create the following dataframe\n",
    "```Python\n",
    "df1 = pd.DataFrame(\n",
    "    {'alpha': [0, 1, 2, 3, 4],\n",
    "     'beta': ['a', 'b', 'c', 'd', 'e']}, index = ['I1', 'I2' ,'I3', 'I4', 'I5'])\n",
    "```\n",
    "+ Create a new dataframe named `df2` with column names \"delta\" and \"gamma\" that contins 5 rows with some index names that overlap with the `df1` dataframe and some that do not.\n",
    "+ Concatenate the two dataframes by rows and print the result.\n",
    "+ You should see the two have combined one after the other, but there should also be missing values added. \n",
    "+ Explain why there are missing values.\n"
   ]
  },
  {
   "cell_type": "code",
   "execution_count": 33,
   "metadata": {},
   "outputs": [
    {
     "name": "stderr",
     "output_type": "stream",
     "text": [
      "C:\\Users\\greys\\Anaconda3\\lib\\site-packages\\ipykernel_launcher.py:5: FutureWarning: Sorting because non-concatenation axis is not aligned. A future version\n",
      "of pandas will change to not sort by default.\n",
      "\n",
      "To accept the future behavior, pass 'sort=False'.\n",
      "\n",
      "To retain the current behavior and silence the warning, pass 'sort=True'.\n",
      "\n",
      "  \"\"\"\n"
     ]
    },
    {
     "data": {
      "text/html": [
       "<div>\n",
       "<style scoped>\n",
       "    .dataframe tbody tr th:only-of-type {\n",
       "        vertical-align: middle;\n",
       "    }\n",
       "\n",
       "    .dataframe tbody tr th {\n",
       "        vertical-align: top;\n",
       "    }\n",
       "\n",
       "    .dataframe thead th {\n",
       "        text-align: right;\n",
       "    }\n",
       "</style>\n",
       "<table border=\"1\" class=\"dataframe\">\n",
       "  <thead>\n",
       "    <tr style=\"text-align: right;\">\n",
       "      <th></th>\n",
       "      <th>alpha</th>\n",
       "      <th>beta</th>\n",
       "      <th>delta</th>\n",
       "      <th>gamma</th>\n",
       "    </tr>\n",
       "  </thead>\n",
       "  <tbody>\n",
       "    <tr>\n",
       "      <td>I1</td>\n",
       "      <td>0.0</td>\n",
       "      <td>a</td>\n",
       "      <td>NaN</td>\n",
       "      <td>NaN</td>\n",
       "    </tr>\n",
       "    <tr>\n",
       "      <td>I2</td>\n",
       "      <td>1.0</td>\n",
       "      <td>b</td>\n",
       "      <td>NaN</td>\n",
       "      <td>NaN</td>\n",
       "    </tr>\n",
       "    <tr>\n",
       "      <td>I3</td>\n",
       "      <td>2.0</td>\n",
       "      <td>c</td>\n",
       "      <td>NaN</td>\n",
       "      <td>NaN</td>\n",
       "    </tr>\n",
       "    <tr>\n",
       "      <td>I4</td>\n",
       "      <td>3.0</td>\n",
       "      <td>d</td>\n",
       "      <td>NaN</td>\n",
       "      <td>NaN</td>\n",
       "    </tr>\n",
       "    <tr>\n",
       "      <td>I5</td>\n",
       "      <td>4.0</td>\n",
       "      <td>e</td>\n",
       "      <td>NaN</td>\n",
       "      <td>NaN</td>\n",
       "    </tr>\n",
       "    <tr>\n",
       "      <td>I1</td>\n",
       "      <td>NaN</td>\n",
       "      <td>NaN</td>\n",
       "      <td>4.0</td>\n",
       "      <td>1.0</td>\n",
       "    </tr>\n",
       "    <tr>\n",
       "      <td>I2</td>\n",
       "      <td>NaN</td>\n",
       "      <td>NaN</td>\n",
       "      <td>8.0</td>\n",
       "      <td>1.0</td>\n",
       "    </tr>\n",
       "    <tr>\n",
       "      <td>I3</td>\n",
       "      <td>NaN</td>\n",
       "      <td>NaN</td>\n",
       "      <td>15.0</td>\n",
       "      <td>1.0</td>\n",
       "    </tr>\n",
       "    <tr>\n",
       "      <td>I8</td>\n",
       "      <td>NaN</td>\n",
       "      <td>NaN</td>\n",
       "      <td>16.0</td>\n",
       "      <td>1.0</td>\n",
       "    </tr>\n",
       "    <tr>\n",
       "      <td>I9</td>\n",
       "      <td>NaN</td>\n",
       "      <td>NaN</td>\n",
       "      <td>23.0</td>\n",
       "      <td>1.0</td>\n",
       "    </tr>\n",
       "  </tbody>\n",
       "</table>\n",
       "</div>"
      ],
      "text/plain": [
       "    alpha beta  delta  gamma\n",
       "I1    0.0    a    NaN    NaN\n",
       "I2    1.0    b    NaN    NaN\n",
       "I3    2.0    c    NaN    NaN\n",
       "I4    3.0    d    NaN    NaN\n",
       "I5    4.0    e    NaN    NaN\n",
       "I1    NaN  NaN    4.0    1.0\n",
       "I2    NaN  NaN    8.0    1.0\n",
       "I3    NaN  NaN   15.0    1.0\n",
       "I8    NaN  NaN   16.0    1.0\n",
       "I9    NaN  NaN   23.0    1.0"
      ]
     },
     "execution_count": 33,
     "metadata": {},
     "output_type": "execute_result"
    }
   ],
   "source": [
    "df1 = pd.DataFrame({'alpha': [0, 1, 2, 3, 4],'beta': ['a', 'b', 'c', 'd', 'e']}, index = ['I1', 'I2' ,'I3', 'I4', 'I5'])\n",
    "\n",
    "df2 = pd.DataFrame({'delta': [4, 8, 15, 16, 23],'gamma': np.ones(5)}, index = ['I1', 'I2' ,'I3', 'I8', 'I9'])\n",
    "\n",
    "df_comb = pd.concat([df1, df2], axis = 0)\n",
    "\n",
    "df_comb # the missing values are where there are columns for each array, but there are no elements to fill all positions within the matrix"
   ]
  },
  {
   "cell_type": "markdown",
   "metadata": {},
   "source": [
    "## Task 6b: Concatenation by Columns\n",
    "\n",
    "Using the same dataframes, df1 and df2, from Task 6a practice:\n",
    "+ Concatenate the two by columns\n",
    "+ Add a \"delta\" column to `df1` and concatenate by columns such that there are 5 columns in the merged dataframe.\n",
    "+ Respond in writing to this question (add a new 'raw' cell to contain your answer). What will happen if using you had performed an inner join while concatenating?  \n",
    "+ Try the concatenation with the inner join to see if you are correct."
   ]
  },
  {
   "cell_type": "code",
   "execution_count": 38,
   "metadata": {},
   "outputs": [
    {
     "name": "stderr",
     "output_type": "stream",
     "text": [
      "C:\\Users\\greys\\Anaconda3\\lib\\site-packages\\ipykernel_launcher.py:2: FutureWarning: Sorting because non-concatenation axis is not aligned. A future version\n",
      "of pandas will change to not sort by default.\n",
      "\n",
      "To accept the future behavior, pass 'sort=False'.\n",
      "\n",
      "To retain the current behavior and silence the warning, pass 'sort=True'.\n",
      "\n",
      "  \n"
     ]
    },
    {
     "data": {
      "text/html": [
       "<div>\n",
       "<style scoped>\n",
       "    .dataframe tbody tr th:only-of-type {\n",
       "        vertical-align: middle;\n",
       "    }\n",
       "\n",
       "    .dataframe tbody tr th {\n",
       "        vertical-align: top;\n",
       "    }\n",
       "\n",
       "    .dataframe thead th {\n",
       "        text-align: right;\n",
       "    }\n",
       "</style>\n",
       "<table border=\"1\" class=\"dataframe\">\n",
       "  <thead>\n",
       "    <tr style=\"text-align: right;\">\n",
       "      <th></th>\n",
       "      <th>alpha</th>\n",
       "      <th>beta</th>\n",
       "      <th>delta</th>\n",
       "      <th>delta</th>\n",
       "      <th>gamma</th>\n",
       "    </tr>\n",
       "  </thead>\n",
       "  <tbody>\n",
       "    <tr>\n",
       "      <td>I1</td>\n",
       "      <td>0</td>\n",
       "      <td>a</td>\n",
       "      <td>0.254579</td>\n",
       "      <td>4</td>\n",
       "      <td>1.0</td>\n",
       "    </tr>\n",
       "    <tr>\n",
       "      <td>I2</td>\n",
       "      <td>1</td>\n",
       "      <td>b</td>\n",
       "      <td>0.932491</td>\n",
       "      <td>8</td>\n",
       "      <td>1.0</td>\n",
       "    </tr>\n",
       "    <tr>\n",
       "      <td>I3</td>\n",
       "      <td>2</td>\n",
       "      <td>c</td>\n",
       "      <td>0.468689</td>\n",
       "      <td>15</td>\n",
       "      <td>1.0</td>\n",
       "    </tr>\n",
       "  </tbody>\n",
       "</table>\n",
       "</div>"
      ],
      "text/plain": [
       "    alpha beta     delta  delta  gamma\n",
       "I1      0    a  0.254579      4    1.0\n",
       "I2      1    b  0.932491      8    1.0\n",
       "I3      2    c  0.468689     15    1.0"
      ]
     },
     "execution_count": 38,
     "metadata": {},
     "output_type": "execute_result"
    }
   ],
   "source": [
    "df1['delta'] = np.random.random(5)\n",
    "df_concat = pd.concat([df1, df2], axis = 1)\n",
    "df_concat2 = pd.concat([df1, df2], axis = 1, join = 'inner')\n",
    "df_concat\n",
    "df_concat2"
   ]
  },
  {
   "cell_type": "markdown",
   "metadata": {},
   "source": [
    "#### Task 6c: Concat and append data frames\n",
    "<span style=\"float:right; margin-left:10px; clear:both;\">![Task](./media/task-icon.png)</span>\n",
    "\n",
    "+ Create a new 5x5 dataframe full of random numbers.\n",
    "+ Create a new 5x10 dataframe full of 1's.\n",
    "+ Append one to the other and print it.\n",
    "+ Append a single Series of zeros to the end of the appended dataframe.\n"
   ]
  },
  {
   "cell_type": "code",
   "execution_count": 44,
   "metadata": {},
   "outputs": [
    {
     "name": "stdout",
     "output_type": "stream",
     "text": [
      "          0         1         2         3         4    5    6    7    8    9\n",
      "0  0.873381  0.389262  0.414529  0.074682  0.670701  NaN  NaN  NaN  NaN  NaN\n",
      "1  0.279164  0.540715  0.115392  0.035134  0.072829  NaN  NaN  NaN  NaN  NaN\n",
      "2  0.357957  0.358025  0.270738  0.553562  0.137114  NaN  NaN  NaN  NaN  NaN\n",
      "3  0.066785  0.545624  0.422392  0.638577  0.564334  NaN  NaN  NaN  NaN  NaN\n",
      "4  0.575391  0.786336  0.687596  0.240887  0.827395  NaN  NaN  NaN  NaN  NaN\n",
      "0  1.000000  1.000000  1.000000  1.000000  1.000000  1.0  1.0  1.0  1.0  1.0\n",
      "1  1.000000  1.000000  1.000000  1.000000  1.000000  1.0  1.0  1.0  1.0  1.0\n",
      "2  1.000000  1.000000  1.000000  1.000000  1.000000  1.0  1.0  1.0  1.0  1.0\n",
      "3  1.000000  1.000000  1.000000  1.000000  1.000000  1.0  1.0  1.0  1.0  1.0\n",
      "4  1.000000  1.000000  1.000000  1.000000  1.000000  1.0  1.0  1.0  1.0  1.0\n",
      "5  1.000000  1.000000  1.000000  1.000000  1.000000  1.0  1.0  1.0  1.0  1.0\n",
      "6  1.000000  1.000000  1.000000  1.000000  1.000000  1.0  1.0  1.0  1.0  1.0\n",
      "7  1.000000  1.000000  1.000000  1.000000  1.000000  1.0  1.0  1.0  1.0  1.0\n",
      "8  1.000000  1.000000  1.000000  1.000000  1.000000  1.0  1.0  1.0  1.0  1.0\n",
      "9  1.000000  1.000000  1.000000  1.000000  1.000000  1.0  1.0  1.0  1.0  1.0 \n",
      "\n",
      "          0         1         2         3         4    5    6    7    8    9\n",
      "0  1.000000  1.000000  1.000000  1.000000  1.000000  1.0  1.0  1.0  1.0  1.0\n",
      "1  1.000000  1.000000  1.000000  1.000000  1.000000  1.0  1.0  1.0  1.0  1.0\n",
      "2  1.000000  1.000000  1.000000  1.000000  1.000000  1.0  1.0  1.0  1.0  1.0\n",
      "3  1.000000  1.000000  1.000000  1.000000  1.000000  1.0  1.0  1.0  1.0  1.0\n",
      "4  1.000000  1.000000  1.000000  1.000000  1.000000  1.0  1.0  1.0  1.0  1.0\n",
      "5  1.000000  1.000000  1.000000  1.000000  1.000000  1.0  1.0  1.0  1.0  1.0\n",
      "6  1.000000  1.000000  1.000000  1.000000  1.000000  1.0  1.0  1.0  1.0  1.0\n",
      "7  1.000000  1.000000  1.000000  1.000000  1.000000  1.0  1.0  1.0  1.0  1.0\n",
      "8  1.000000  1.000000  1.000000  1.000000  1.000000  1.0  1.0  1.0  1.0  1.0\n",
      "9  1.000000  1.000000  1.000000  1.000000  1.000000  1.0  1.0  1.0  1.0  1.0\n",
      "0  0.873381  0.389262  0.414529  0.074682  0.670701  NaN  NaN  NaN  NaN  NaN\n",
      "1  0.279164  0.540715  0.115392  0.035134  0.072829  NaN  NaN  NaN  NaN  NaN\n",
      "2  0.357957  0.358025  0.270738  0.553562  0.137114  NaN  NaN  NaN  NaN  NaN\n",
      "3  0.066785  0.545624  0.422392  0.638577  0.564334  NaN  NaN  NaN  NaN  NaN\n",
      "4  0.575391  0.786336  0.687596  0.240887  0.827395  NaN  NaN  NaN  NaN  NaN\n"
     ]
    }
   ],
   "source": [
    "df = pd.DataFrame(np.random.random((5,5)))\n",
    "uno_df = pd.DataFrame(np.ones((10,10)))\n",
    "print(df.append(uno_df), '\\n')\n",
    "print(uno_df.append(df))"
   ]
  },
  {
   "cell_type": "markdown",
   "metadata": {},
   "source": [
    "## Task 6d: Grouping\n",
    "\n",
    "Demonstrate a `groupby`.\n",
    "\n",
    "+ Create a new column with the label \"region\" in the iris data frame. This column will indicates geographic regions of the US where measurments were taken. Values should include:  'Southeast', 'Northeast', 'Midwest', 'Southwest', 'Northwest'. Use these randomly.\n",
    "+ Use `groupby` to get a new data frame of means for each species in each region.\n",
    "+ Add a `dev_stage` column by randomly selecting from the values \"early\" and \"late\".\n",
    "+ Use `groupby` to get a new data frame of means for each species,in each region and each development stage.\n",
    "+ Use the `count` function (just like you used the `mean` function) to identify how many rows in the table belong to each combination of species + region + developmental stage."
   ]
  },
  {
   "cell_type": "code",
   "execution_count": 64,
   "metadata": {},
   "outputs": [
    {
     "name": "stdout",
     "output_type": "stream",
     "text": [
      "                      sepal_length  sepal_width  petal_length  petal_width  \\\n",
      "species    region                                                            \n",
      "setosa     Northeast            50           50            50           50   \n",
      "versicolor Northeast            50           50            50           50   \n",
      "virginica  Northeast            50           50            50           50   \n",
      "\n",
      "                      dev_stage  \n",
      "species    region                \n",
      "setosa     Northeast         50  \n",
      "versicolor Northeast         50  \n",
      "virginica  Northeast         50   \n",
      "\n"
     ]
    },
    {
     "data": {
      "text/html": [
       "<div>\n",
       "<style scoped>\n",
       "    .dataframe tbody tr th:only-of-type {\n",
       "        vertical-align: middle;\n",
       "    }\n",
       "\n",
       "    .dataframe tbody tr th {\n",
       "        vertical-align: top;\n",
       "    }\n",
       "\n",
       "    .dataframe thead th {\n",
       "        text-align: right;\n",
       "    }\n",
       "</style>\n",
       "<table border=\"1\" class=\"dataframe\">\n",
       "  <thead>\n",
       "    <tr style=\"text-align: right;\">\n",
       "      <th></th>\n",
       "      <th></th>\n",
       "      <th></th>\n",
       "      <th>sepal_length</th>\n",
       "      <th>sepal_width</th>\n",
       "      <th>petal_length</th>\n",
       "      <th>petal_width</th>\n",
       "    </tr>\n",
       "    <tr>\n",
       "      <th>species</th>\n",
       "      <th>region</th>\n",
       "      <th>dev_stage</th>\n",
       "      <th></th>\n",
       "      <th></th>\n",
       "      <th></th>\n",
       "      <th></th>\n",
       "    </tr>\n",
       "  </thead>\n",
       "  <tbody>\n",
       "    <tr>\n",
       "      <td>setosa</td>\n",
       "      <td>Northeast</td>\n",
       "      <td>early</td>\n",
       "      <td>50</td>\n",
       "      <td>50</td>\n",
       "      <td>50</td>\n",
       "      <td>50</td>\n",
       "    </tr>\n",
       "    <tr>\n",
       "      <td>versicolor</td>\n",
       "      <td>Northeast</td>\n",
       "      <td>early</td>\n",
       "      <td>50</td>\n",
       "      <td>50</td>\n",
       "      <td>50</td>\n",
       "      <td>50</td>\n",
       "    </tr>\n",
       "    <tr>\n",
       "      <td>virginica</td>\n",
       "      <td>Northeast</td>\n",
       "      <td>early</td>\n",
       "      <td>50</td>\n",
       "      <td>50</td>\n",
       "      <td>50</td>\n",
       "      <td>50</td>\n",
       "    </tr>\n",
       "  </tbody>\n",
       "</table>\n",
       "</div>"
      ],
      "text/plain": [
       "                                sepal_length  sepal_width  petal_length  \\\n",
       "species    region    dev_stage                                            \n",
       "setosa     Northeast early                50           50            50   \n",
       "versicolor Northeast early                50           50            50   \n",
       "virginica  Northeast early                50           50            50   \n",
       "\n",
       "                                petal_width  \n",
       "species    region    dev_stage               \n",
       "setosa     Northeast early               50  \n",
       "versicolor Northeast early               50  \n",
       "virginica  Northeast early               50  "
      ]
     },
     "execution_count": 64,
     "metadata": {},
     "output_type": "execute_result"
    }
   ],
   "source": [
    "iris_df['region'] = np.random.choice(['Southeast', 'Northeast', 'Midwest', 'Southwest', 'Northwest'])\n",
    "group_1 = iris_df.groupby(['species', 'region'])\n",
    "iris_df['dev_stage'] = np.random.choice(['early', 'late'])\n",
    "group_2 = iris_df.groupby(['species', 'region', 'dev_stage'])\n",
    "print(group_1.count(), '\\n')\n",
    "group_2.count()"
   ]
  },
  {
   "cell_type": "code",
   "execution_count": null,
   "metadata": {},
   "outputs": [],
   "source": []
  }
 ],
 "metadata": {
  "kernelspec": {
   "display_name": "Python 3",
   "language": "python",
   "name": "python3"
  },
  "language_info": {
   "codemirror_mode": {
    "name": "ipython",
    "version": 3
   },
   "file_extension": ".py",
   "mimetype": "text/x-python",
   "name": "python",
   "nbconvert_exporter": "python",
   "pygments_lexer": "ipython3",
   "version": "3.7.4"
  }
 },
 "nbformat": 4,
 "nbformat_minor": 4
}
