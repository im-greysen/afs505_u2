{
 "cells": [
  {
   "cell_type": "markdown",
   "metadata": {},
   "source": [
    "# Lesson 3 Practice: Pandas Part 1\n",
    "\n",
    "Use this notebook to follow along with the lesson in the corresponding lesson notebook: [L03-Pandas_Part1-Lesson.ipynb](./L03-Pandas_Part1-Lesson.ipynb).  "
   ]
  },
  {
   "cell_type": "markdown",
   "metadata": {},
   "source": [
    "## Instructions\n",
    "Follow along with the teaching material in the lesson. Throughout the tutorial sections labeled as \"Tasks\" are interspersed and indicated with the icon: ![Task](http://icons.iconarchive.com/icons/sbstnblnd/plateau/16/Apps-gnome-info-icon.png). You should follow the instructions provided in these sections by performing them in the practice notebook.  When the tutorial is completed you can turn in the final practice notebook. For each task, use the cell below it to write and test your code.  You may add additional cells for any task as needed or desired.  "
   ]
  },
  {
   "cell_type": "markdown",
   "metadata": {},
   "source": [
    "## Task 1a: Setup\n",
    "\n",
    "+ `numpy` as `np`\n",
    "+ `pandas` as `pd`\n"
   ]
  },
  {
   "cell_type": "code",
   "execution_count": 1,
   "metadata": {},
   "outputs": [],
   "source": [
    "import numpy as np\n",
    "import pandas as pd"
   ]
  },
  {
   "cell_type": "markdown",
   "metadata": {},
   "source": [
    "## Task 2a Create a `pd.Series` object\n",
    "\n",
    "+ Create a series of your own design."
   ]
  },
  {
   "cell_type": "code",
   "execution_count": 2,
   "metadata": {},
   "outputs": [
    {
     "data": {
      "text/plain": [
       "0     4\n",
       "1     8\n",
       "2    15\n",
       "3    16\n",
       "4    23\n",
       "5    42\n",
       "dtype: int64"
      ]
     },
     "execution_count": 2,
     "metadata": {},
     "output_type": "execute_result"
    }
   ],
   "source": [
    "my_series = pd.Series([4,8,15,16,23,42])\n",
    "my_series"
   ]
  },
  {
   "cell_type": "markdown",
   "metadata": {},
   "source": [
    "## Task 2b: Creating a DataFrame\n",
    "\n",
    "+ Create a pd.DataFrame object from a Python dictionary. Design the data as you like."
   ]
  },
  {
   "cell_type": "code",
   "execution_count": 3,
   "metadata": {},
   "outputs": [
    {
     "data": {
      "text/html": [
       "<div>\n",
       "<style scoped>\n",
       "    .dataframe tbody tr th:only-of-type {\n",
       "        vertical-align: middle;\n",
       "    }\n",
       "\n",
       "    .dataframe tbody tr th {\n",
       "        vertical-align: top;\n",
       "    }\n",
       "\n",
       "    .dataframe thead th {\n",
       "        text-align: right;\n",
       "    }\n",
       "</style>\n",
       "<table border=\"1\" class=\"dataframe\">\n",
       "  <thead>\n",
       "    <tr style=\"text-align: right;\">\n",
       "      <th></th>\n",
       "      <th>Cups of coffee</th>\n",
       "      <th>number of assignments</th>\n",
       "    </tr>\n",
       "  </thead>\n",
       "  <tbody>\n",
       "    <tr>\n",
       "      <td>0</td>\n",
       "      <td>1</td>\n",
       "      <td>2</td>\n",
       "    </tr>\n",
       "    <tr>\n",
       "      <td>1</td>\n",
       "      <td>2</td>\n",
       "      <td>4</td>\n",
       "    </tr>\n",
       "    <tr>\n",
       "      <td>2</td>\n",
       "      <td>3</td>\n",
       "      <td>6</td>\n",
       "    </tr>\n",
       "    <tr>\n",
       "      <td>3</td>\n",
       "      <td>4</td>\n",
       "      <td>10</td>\n",
       "    </tr>\n",
       "  </tbody>\n",
       "</table>\n",
       "</div>"
      ],
      "text/plain": [
       "   Cups of coffee  number of assignments\n",
       "0               1                      2\n",
       "1               2                      4\n",
       "2               3                      6\n",
       "3               4                     10"
      ]
     },
     "execution_count": 3,
     "metadata": {},
     "output_type": "execute_result"
    }
   ],
   "source": [
    "dat_fram = pd.DataFrame(\n",
    "        {'Cups of coffee': [1, 2, 3, 4],\n",
    "        'number of assignments': [2, 4, 6, 10]})\n",
    "dat_fram"
   ]
  },
  {
   "cell_type": "markdown",
   "metadata": {},
   "source": [
    "## Task 2c: Create DataFrame with labels\n",
    "\n",
    "+ Create a 10x5 dataframe of random numeric integers that follow a [Guassian (normal) Distribution](https://docs.scipy.org/doc/numpy-1.15.0/reference/generated/numpy.random.normal.html). \n",
    "  + Center the distrubtion at 0.85.\n",
    "  + We will use these values as assumed grades for a class of students\n",
    "+ Adjust the row indexes to be the names of hypothetical students.\n",
    "+ Adjust the columsn to be the names of hypothetical projects, homework, exam names, etc."
   ]
  },
  {
   "cell_type": "code",
   "execution_count": 16,
   "metadata": {},
   "outputs": [
    {
     "data": {
      "text/html": [
       "<div>\n",
       "<style scoped>\n",
       "    .dataframe tbody tr th:only-of-type {\n",
       "        vertical-align: middle;\n",
       "    }\n",
       "\n",
       "    .dataframe tbody tr th {\n",
       "        vertical-align: top;\n",
       "    }\n",
       "\n",
       "    .dataframe thead th {\n",
       "        text-align: right;\n",
       "    }\n",
       "</style>\n",
       "<table border=\"1\" class=\"dataframe\">\n",
       "  <thead>\n",
       "    <tr style=\"text-align: right;\">\n",
       "      <th></th>\n",
       "      <th>HW1</th>\n",
       "      <th>HW2</th>\n",
       "      <th>Exam1</th>\n",
       "      <th>HW3</th>\n",
       "      <th>Project</th>\n",
       "    </tr>\n",
       "  </thead>\n",
       "  <tbody>\n",
       "    <tr>\n",
       "      <td>Bernard</td>\n",
       "      <td>1.687899</td>\n",
       "      <td>-0.571047</td>\n",
       "      <td>0.621879</td>\n",
       "      <td>-0.066222</td>\n",
       "      <td>1.566122</td>\n",
       "    </tr>\n",
       "    <tr>\n",
       "      <td>Pete</td>\n",
       "      <td>1.179605</td>\n",
       "      <td>1.042898</td>\n",
       "      <td>-0.419672</td>\n",
       "      <td>1.981222</td>\n",
       "      <td>1.137531</td>\n",
       "    </tr>\n",
       "    <tr>\n",
       "      <td>Joe</td>\n",
       "      <td>2.364822</td>\n",
       "      <td>0.071749</td>\n",
       "      <td>1.108764</td>\n",
       "      <td>3.602911</td>\n",
       "      <td>0.168203</td>\n",
       "    </tr>\n",
       "    <tr>\n",
       "      <td>Elizabeth</td>\n",
       "      <td>1.366284</td>\n",
       "      <td>-0.768954</td>\n",
       "      <td>-1.316386</td>\n",
       "      <td>0.275482</td>\n",
       "      <td>-0.066217</td>\n",
       "    </tr>\n",
       "    <tr>\n",
       "      <td>Amy</td>\n",
       "      <td>2.659653</td>\n",
       "      <td>0.777882</td>\n",
       "      <td>1.492087</td>\n",
       "      <td>1.075289</td>\n",
       "      <td>2.219260</td>\n",
       "    </tr>\n",
       "    <tr>\n",
       "      <td>Tom</td>\n",
       "      <td>2.063208</td>\n",
       "      <td>0.152902</td>\n",
       "      <td>0.990127</td>\n",
       "      <td>0.868203</td>\n",
       "      <td>-0.099710</td>\n",
       "    </tr>\n",
       "    <tr>\n",
       "      <td>Mike</td>\n",
       "      <td>1.364865</td>\n",
       "      <td>0.453951</td>\n",
       "      <td>0.402351</td>\n",
       "      <td>0.261630</td>\n",
       "      <td>0.046196</td>\n",
       "    </tr>\n",
       "    <tr>\n",
       "      <td>Tulsi</td>\n",
       "      <td>-0.011346</td>\n",
       "      <td>2.790334</td>\n",
       "      <td>1.229262</td>\n",
       "      <td>0.195254</td>\n",
       "      <td>1.042761</td>\n",
       "    </tr>\n",
       "    <tr>\n",
       "      <td>Jay</td>\n",
       "      <td>0.298901</td>\n",
       "      <td>-0.360890</td>\n",
       "      <td>2.451236</td>\n",
       "      <td>-0.391186</td>\n",
       "      <td>0.290993</td>\n",
       "    </tr>\n",
       "    <tr>\n",
       "      <td>Andrew</td>\n",
       "      <td>2.110198</td>\n",
       "      <td>-0.819376</td>\n",
       "      <td>2.048478</td>\n",
       "      <td>0.126301</td>\n",
       "      <td>1.141490</td>\n",
       "    </tr>\n",
       "  </tbody>\n",
       "</table>\n",
       "</div>"
      ],
      "text/plain": [
       "                HW1       HW2     Exam1       HW3   Project\n",
       "Bernard    1.687899 -0.571047  0.621879 -0.066222  1.566122\n",
       "Pete       1.179605  1.042898 -0.419672  1.981222  1.137531\n",
       "Joe        2.364822  0.071749  1.108764  3.602911  0.168203\n",
       "Elizabeth  1.366284 -0.768954 -1.316386  0.275482 -0.066217\n",
       "Amy        2.659653  0.777882  1.492087  1.075289  2.219260\n",
       "Tom        2.063208  0.152902  0.990127  0.868203 -0.099710\n",
       "Mike       1.364865  0.453951  0.402351  0.261630  0.046196\n",
       "Tulsi     -0.011346  2.790334  1.229262  0.195254  1.042761\n",
       "Jay        0.298901 -0.360890  2.451236 -0.391186  0.290993\n",
       "Andrew     2.110198 -0.819376  2.048478  0.126301  1.141490"
      ]
     },
     "execution_count": 16,
     "metadata": {},
     "output_type": "execute_result"
    }
   ],
   "source": [
    "student_names = ['Bernard', 'Pete', 'Joe', 'Elizabeth', 'Amy', 'Tom', 'Mike', 'Tulsi', 'Jay', 'Andrew']\n",
    "dat_with_labl = pd.DataFrame(np.random.normal(0.85, 1, (10,5)), index = student_names,\n",
    "                             columns = ('HW1', 'HW2', 'Exam1', 'HW3', 'Project'))\n",
    "dat_with_labl\n"
   ]
  },
  {
   "cell_type": "markdown",
   "metadata": {},
   "source": [
    "## Task 3a: Import the iris.csv file\n",
    "\n",
    "+ Import the iris dataset.\n",
    "+ Take a look at the `pd.read_csv` online documentation. Write example code in a Markup cell for how you would import this file if it were tab-delimited."
   ]
  },
  {
   "cell_type": "code",
   "execution_count": 20,
   "metadata": {},
   "outputs": [],
   "source": [
    "iris_df = pd.read_csv(\"iris.csv\")"
   ]
  },
  {
   "cell_type": "markdown",
   "metadata": {},
   "source": [
    "## Task 4a: Explore Data\n",
    "\n",
    " + Use `head`, `tail` and `sample` with the iris dataset.\n",
    " + Do the same with the dataset you created in task 2c."
   ]
  },
  {
   "cell_type": "code",
   "execution_count": 22,
   "metadata": {},
   "outputs": [
    {
     "data": {
      "text/html": [
       "<div>\n",
       "<style scoped>\n",
       "    .dataframe tbody tr th:only-of-type {\n",
       "        vertical-align: middle;\n",
       "    }\n",
       "\n",
       "    .dataframe tbody tr th {\n",
       "        vertical-align: top;\n",
       "    }\n",
       "\n",
       "    .dataframe thead th {\n",
       "        text-align: right;\n",
       "    }\n",
       "</style>\n",
       "<table border=\"1\" class=\"dataframe\">\n",
       "  <thead>\n",
       "    <tr style=\"text-align: right;\">\n",
       "      <th></th>\n",
       "      <th>HW1</th>\n",
       "      <th>HW2</th>\n",
       "      <th>Exam1</th>\n",
       "      <th>HW3</th>\n",
       "      <th>Project</th>\n",
       "    </tr>\n",
       "  </thead>\n",
       "  <tbody>\n",
       "    <tr>\n",
       "      <td>Tulsi</td>\n",
       "      <td>-0.011346</td>\n",
       "      <td>2.790334</td>\n",
       "      <td>1.229262</td>\n",
       "      <td>0.195254</td>\n",
       "      <td>1.042761</td>\n",
       "    </tr>\n",
       "    <tr>\n",
       "      <td>Joe</td>\n",
       "      <td>2.364822</td>\n",
       "      <td>0.071749</td>\n",
       "      <td>1.108764</td>\n",
       "      <td>3.602911</td>\n",
       "      <td>0.168203</td>\n",
       "    </tr>\n",
       "    <tr>\n",
       "      <td>Pete</td>\n",
       "      <td>1.179605</td>\n",
       "      <td>1.042898</td>\n",
       "      <td>-0.419672</td>\n",
       "      <td>1.981222</td>\n",
       "      <td>1.137531</td>\n",
       "    </tr>\n",
       "    <tr>\n",
       "      <td>Amy</td>\n",
       "      <td>2.659653</td>\n",
       "      <td>0.777882</td>\n",
       "      <td>1.492087</td>\n",
       "      <td>1.075289</td>\n",
       "      <td>2.219260</td>\n",
       "    </tr>\n",
       "    <tr>\n",
       "      <td>Mike</td>\n",
       "      <td>1.364865</td>\n",
       "      <td>0.453951</td>\n",
       "      <td>0.402351</td>\n",
       "      <td>0.261630</td>\n",
       "      <td>0.046196</td>\n",
       "    </tr>\n",
       "  </tbody>\n",
       "</table>\n",
       "</div>"
      ],
      "text/plain": [
       "            HW1       HW2     Exam1       HW3   Project\n",
       "Tulsi -0.011346  2.790334  1.229262  0.195254  1.042761\n",
       "Joe    2.364822  0.071749  1.108764  3.602911  0.168203\n",
       "Pete   1.179605  1.042898 -0.419672  1.981222  1.137531\n",
       "Amy    2.659653  0.777882  1.492087  1.075289  2.219260\n",
       "Mike   1.364865  0.453951  0.402351  0.261630  0.046196"
      ]
     },
     "execution_count": 22,
     "metadata": {},
     "output_type": "execute_result"
    }
   ],
   "source": [
    "iris_df.head(5)\n",
    "iris_df.tail(5)\n",
    "iris_df.sample(5)\n",
    "\n",
    "dat_with_labl.head(5)\n",
    "dat_with_labl.tail(5)\n",
    "dat_with_labl.sample(5)"
   ]
  },
  {
   "cell_type": "markdown",
   "metadata": {},
   "source": [
    "## Task 5a: Viewing columns and rows\n",
    "\n",
    "+ Display the columns and indexes of the iris dataset.\n",
    "+ Do the same with the dataset you created in Task 2c."
   ]
  },
  {
   "cell_type": "code",
   "execution_count": 25,
   "metadata": {},
   "outputs": [
    {
     "data": {
      "text/plain": [
       "Index(['Bernard', 'Pete', 'Joe', 'Elizabeth', 'Amy', 'Tom', 'Mike', 'Tulsi',\n",
       "       'Jay', 'Andrew'],\n",
       "      dtype='object')"
      ]
     },
     "execution_count": 25,
     "metadata": {},
     "output_type": "execute_result"
    }
   ],
   "source": [
    "iris_df.columns\n",
    "iris_df.index\n",
    "dat_with_labl.columns\n",
    "dat_with_labl.index"
   ]
  },
  {
   "cell_type": "markdown",
   "metadata": {},
   "source": [
    "## Task 5b: Get Values\n",
    "\n",
    "+ Check the version of `pandas` you have \n",
    "+ Use the appropriate method to convert the iris data to a dictionary.\n",
    "+ Do the same with the dataset you created in Task 2c.\n"
   ]
  },
  {
   "cell_type": "code",
   "execution_count": 27,
   "metadata": {},
   "outputs": [
    {
     "data": {
      "text/plain": [
       "{'HW1': {'Bernard': 1.687899490334722,\n",
       "  'Pete': 1.179604505650257,\n",
       "  'Joe': 2.3648222508582393,\n",
       "  'Elizabeth': 1.3662843336325317,\n",
       "  'Amy': 2.659653458596213,\n",
       "  'Tom': 2.063208213741634,\n",
       "  'Mike': 1.3648654390121873,\n",
       "  'Tulsi': -0.011345690306135192,\n",
       "  'Jay': 0.2989013688916543,\n",
       "  'Andrew': 2.1101984088389516},\n",
       " 'HW2': {'Bernard': -0.5710465604436129,\n",
       "  'Pete': 1.0428980150587686,\n",
       "  'Joe': 0.07174949978521794,\n",
       "  'Elizabeth': -0.7689539482588884,\n",
       "  'Amy': 0.7778821439643807,\n",
       "  'Tom': 0.15290233700882283,\n",
       "  'Mike': 0.45395075908245164,\n",
       "  'Tulsi': 2.7903342777565623,\n",
       "  'Jay': -0.36088979373731866,\n",
       "  'Andrew': -0.8193764732274834},\n",
       " 'Exam1': {'Bernard': 0.621879420330812,\n",
       "  'Pete': -0.419671788905119,\n",
       "  'Joe': 1.1087636220821975,\n",
       "  'Elizabeth': -1.316386255921087,\n",
       "  'Amy': 1.4920873244538368,\n",
       "  'Tom': 0.9901269482786959,\n",
       "  'Mike': 0.402350940603425,\n",
       "  'Tulsi': 1.2292615507255675,\n",
       "  'Jay': 2.451236425393097,\n",
       "  'Andrew': 2.048478376052879},\n",
       " 'HW3': {'Bernard': -0.06622234179415853,\n",
       "  'Pete': 1.9812222911771928,\n",
       "  'Joe': 3.602910859600761,\n",
       "  'Elizabeth': 0.27548175235197847,\n",
       "  'Amy': 1.0752889824794931,\n",
       "  'Tom': 0.8682028426084197,\n",
       "  'Mike': 0.26162998990256847,\n",
       "  'Tulsi': 0.1952539056398631,\n",
       "  'Jay': -0.3911857062338445,\n",
       "  'Andrew': 0.12630111729646631},\n",
       " 'Project': {'Bernard': 1.5661217501804736,\n",
       "  'Pete': 1.1375314846811975,\n",
       "  'Joe': 0.1682025587067154,\n",
       "  'Elizabeth': -0.06621735137699092,\n",
       "  'Amy': 2.219260309714007,\n",
       "  'Tom': -0.09970977110226942,\n",
       "  'Mike': 0.046196289196157925,\n",
       "  'Tulsi': 1.042761448791071,\n",
       "  'Jay': 0.2909930383336694,\n",
       "  'Andrew': 1.1414895578426216}}"
      ]
     },
     "execution_count": 27,
     "metadata": {},
     "output_type": "execute_result"
    }
   ],
   "source": [
    "pd.__version__\n",
    "iris_new = iris_df.to_dict()\n",
    "iris_new\n",
    "dat_new = dat_with_labl.to_dict()\n",
    "dat_new"
   ]
  },
  {
   "cell_type": "markdown",
   "metadata": {},
   "source": [
    "## Task 5c: Using `loc`\n",
    "\n",
    "+ Use any iris dataframe to:\n",
    "  + Select a row slice with `loc`.\n",
    "  + Select a row and column slice with `loc`.\n",
    "  + Take a look at the [Pandas documentation for the `at` selector](https://pandas.pydata.org/pandas-docs/stable/reference/api/pandas.DataFrame.at.html). Use what you learn there to select a single item with Pandas `at` accessor."
   ]
  },
  {
   "cell_type": "code",
   "execution_count": 31,
   "metadata": {},
   "outputs": [
    {
     "data": {
      "text/plain": [
       "3.9"
      ]
     },
     "execution_count": 31,
     "metadata": {},
     "output_type": "execute_result"
    }
   ],
   "source": [
    "iris_df.loc[4:20]\n",
    "iris_df.loc[4:20, ['sepal_width', 'petal_width']]\n",
    "iris_df.at[5, 'sepal_width']"
   ]
  },
  {
   "cell_type": "markdown",
   "metadata": {},
   "source": [
    "## Task 5d: Using `iloc`\n",
    "\n",
    "+ Use any iris dataframe to:    \n",
    "    + Select a row slice with `iloc`.\n",
    "    + Select a row and column slice with `iloc`.\n",
    "    + Take a look at the [Pandas documentation for the `iat` selector](https://pandas.pydata.org/pandas-docs/stable/reference/api/pandas.DataFrame.iat.html). Use what you learn there to select a single item with Pandas `iat` accessor.\n",
    "\n"
   ]
  },
  {
   "cell_type": "code",
   "execution_count": 37,
   "metadata": {},
   "outputs": [
    {
     "data": {
      "text/plain": [
       "'setosa'"
      ]
     },
     "execution_count": 37,
     "metadata": {},
     "output_type": "execute_result"
    }
   ],
   "source": [
    "iris_df.iloc[6:7]\n",
    "iris_df.iloc[4:8, :1]\n",
    "iris_df.iat[8,4]"
   ]
  },
  {
   "cell_type": "markdown",
   "metadata": {},
   "source": [
    "## Task 5e: Boolean Indexing\n",
    "\n",
    "+ Create subsets of the iris dataset using boolean indexes that:\n",
    "    + Use one boolean operator.\n",
    "    + Use two boolean operators.\n",
    "\n"
   ]
  },
  {
   "cell_type": "code",
   "execution_count": 49,
   "metadata": {},
   "outputs": [
    {
     "data": {
      "text/plain": [
       "0      False\n",
       "1      False\n",
       "2      False\n",
       "3      False\n",
       "4      False\n",
       "       ...  \n",
       "145    False\n",
       "146    False\n",
       "147    False\n",
       "148    False\n",
       "149    False\n",
       "Length: 150, dtype: bool"
      ]
     },
     "execution_count": 49,
     "metadata": {},
     "output_type": "execute_result"
    }
   ],
   "source": [
    "cond_1 = iris_df['petal_width'] > 2\n",
    "cond_1\n",
    "cond_2 = (iris_df['petal_length'] > 2) & (iris_df['sepal_length'] > 9)\n",
    "cond_2"
   ]
  }
 ],
 "metadata": {
  "kernelspec": {
   "display_name": "Python 3",
   "language": "python",
   "name": "python3"
  },
  "language_info": {
   "codemirror_mode": {
    "name": "ipython",
    "version": 3
   },
   "file_extension": ".py",
   "mimetype": "text/x-python",
   "name": "python",
   "nbconvert_exporter": "python",
   "pygments_lexer": "ipython3",
   "version": "3.7.4"
  }
 },
 "nbformat": 4,
 "nbformat_minor": 4
}
